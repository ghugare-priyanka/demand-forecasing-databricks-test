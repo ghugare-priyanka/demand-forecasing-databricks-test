{
 "cells": [
  {
   "cell_type": "code",
   "execution_count": 0,
   "metadata": {
    "application/vnd.databricks.v1+cell": {
     "cellMetadata": {
      "byteLimit": 2048000,
      "rowLimit": 10000
     },
     "inputWidgets": {},
     "nuid": "6654d2d5-c139-4cb9-90ef-2f4a64b47063",
     "showTitle": false,
     "title": ""
    }
   },
   "outputs": [],
   "source": [
    "import pandas as pd\n",
    "import numpy as np\n",
    "from IPython.display import display"
   ]
  },
  {
   "cell_type": "code",
   "execution_count": 0,
   "metadata": {
    "application/vnd.databricks.v1+cell": {
     "cellMetadata": {
      "byteLimit": 2048000,
      "rowLimit": 10000
     },
     "inputWidgets": {},
     "nuid": "9cd2460b-0efb-4b53-bcff-993b7b4cd708",
     "showTitle": false,
     "title": ""
    }
   },
   "outputs": [],
   "source": [
    "def read_data_from_unity_catalog():\n",
    "    # Data via unity catalog\n",
    "    # Set the current catalog and schema (database) if necessary\n",
    "    spark.sql(\"USE CATALOG `edp-apac-uat`\") # Unity Catalog name\n",
    "    spark.sql(\"USE l1_asurion_apac\") # Schema (database) name\n",
    "\n",
    "    # Query a table\n",
    "    preprocessed_data = spark.sql(\"SELECT * FROM demand_forecast\") # Table name #spark.read.table\n",
    "    #preprocessed_data.show()\n",
    "\n",
    "    # Print the schema to understand data types\n",
    "    # preprocessed_data.printSchema()\n",
    "    preprocessed_data.display()\n",
    "    preprocessed_data = preprocessed_data.toPandas()\n",
    "    return preprocessed_data"
   ]
  },
  {
   "cell_type": "markdown",
   "metadata": {
    "application/vnd.databricks.v1+cell": {
     "cellMetadata": {
      "byteLimit": 2048000,
      "rowLimit": 10000
     },
     "inputWidgets": {},
     "nuid": "e8908693-6701-46ee-85da-7587c6d52a8e",
     "showTitle": false,
     "title": ""
    }
   },
   "source": [
    "## Thailand"
   ]
  },
  {
   "cell_type": "code",
   "execution_count": 0,
   "metadata": {
    "application/vnd.databricks.v1+cell": {
     "cellMetadata": {
      "byteLimit": 2048000,
      "implicitDf": true,
      "rowLimit": 10000
     },
     "inputWidgets": {},
     "nuid": "a41e888c-50af-4a90-9553-ba84ea27e02b",
     "showTitle": false,
     "title": ""
    }
   },
   "outputs": [],
   "source": [
    "%sql\n",
    "SELECT count(*) from demand_forecast"
   ]
  },
  {
   "cell_type": "code",
   "execution_count": 0,
   "metadata": {
    "application/vnd.databricks.v1+cell": {
     "cellMetadata": {
      "byteLimit": 2048000,
      "rowLimit": 10000
     },
     "inputWidgets": {},
     "nuid": "9957e056-a23c-4fc0-916a-0168dd923186",
     "showTitle": false,
     "title": ""
    }
   },
   "outputs": [],
   "source": [
    "preprocessed_data = read_data_from_unity_catalog()\n",
    "preprocessed_data = preprocessed_data.toPandas()\n",
    "preprocessed_data.shape"
   ]
  },
  {
   "cell_type": "code",
   "execution_count": 0,
   "metadata": {
    "application/vnd.databricks.v1+cell": {
     "cellMetadata": {
      "byteLimit": 2048000,
      "rowLimit": 10000
     },
     "inputWidgets": {},
     "nuid": "0877f0d4-dc40-434e-96ea-1c0aa99891a2",
     "showTitle": false,
     "title": ""
    }
   },
   "outputs": [],
   "source": [
    "df_th = preprocessed_data[preprocessed_data['Country']=='Thailand']\n",
    "df_th.shape\n",
    "\n"
   ]
  },
  {
   "cell_type": "code",
   "execution_count": 0,
   "metadata": {
    "application/vnd.databricks.v1+cell": {
     "cellMetadata": {
      "byteLimit": 2048000,
      "rowLimit": 10000
     },
     "inputWidgets": {},
     "nuid": "380c0a96-7900-46a9-9b56-a7109fc80118",
     "showTitle": false,
     "title": ""
    }
   },
   "outputs": [],
   "source": [
    "df_sg = preprocessed_data[preprocessed_data['Country']=='Singapore']\n",
    "df_sg.shape\n"
   ]
  },
  {
   "cell_type": "code",
   "execution_count": 0,
   "metadata": {
    "application/vnd.databricks.v1+cell": {
     "cellMetadata": {
      "byteLimit": 2048000,
      "rowLimit": 10000
     },
     "inputWidgets": {},
     "nuid": "44624778-8889-45b9-a0e7-d7ff38362916",
     "showTitle": false,
     "title": ""
    }
   },
   "outputs": [],
   "source": [
    "\n",
    "df_my = preprocessed_data[preprocessed_data['Country']=='Malaysia']\n",
    "df_my.shape"
   ]
  },
  {
   "cell_type": "code",
   "execution_count": 0,
   "metadata": {
    "application/vnd.databricks.v1+cell": {
     "cellMetadata": {
      "byteLimit": 2048000,
      "rowLimit": 10000
     },
     "inputWidgets": {},
     "nuid": "57050337-175f-4dcf-aa3b-3764cf516631",
     "showTitle": false,
     "title": ""
    }
   },
   "outputs": [],
   "source": [
    "preprocessed_data['Model'].nunique()"
   ]
  },
  {
   "cell_type": "code",
   "execution_count": 0,
   "metadata": {
    "application/vnd.databricks.v1+cell": {
     "cellMetadata": {
      "byteLimit": 2048000,
      "rowLimit": 10000
     },
     "inputWidgets": {},
     "nuid": "d46d7e08-90dd-43e8-b155-a3946dc3f3f8",
     "showTitle": false,
     "title": ""
    }
   },
   "outputs": [],
   "source": [
    "#Count non zero records overall\n",
    "preprocessed_data_non_zero_count = (preprocessed_data['Shipped_Claim']!=0).sum()\n",
    "preprocessed_data_non_zero_count"
   ]
  },
  {
   "cell_type": "code",
   "execution_count": 0,
   "metadata": {
    "application/vnd.databricks.v1+cell": {
     "cellMetadata": {
      "byteLimit": 2048000,
      "rowLimit": 10000
     },
     "inputWidgets": {},
     "nuid": "b4a280a2-28c8-4008-a871-0b8de80c78a7",
     "showTitle": false,
     "title": ""
    }
   },
   "outputs": [],
   "source": [
    "#Count non zero records for thailand\n",
    "TH_non_zero_count = (df_th['Shipped_Claim']!=0).sum()\n",
    "TH_non_zero_count"
   ]
  },
  {
   "cell_type": "markdown",
   "metadata": {
    "application/vnd.databricks.v1+cell": {
     "cellMetadata": {
      "byteLimit": 2048000,
      "rowLimit": 10000
     },
     "inputWidgets": {},
     "nuid": "4e9a90fd-4142-40df-b53f-964726eb22e3",
     "showTitle": false,
     "title": ""
    }
   },
   "source": [
    "## Singapore"
   ]
  },
  {
   "cell_type": "code",
   "execution_count": 0,
   "metadata": {
    "application/vnd.databricks.v1+cell": {
     "cellMetadata": {
      "byteLimit": 2048000,
      "rowLimit": 10000
     },
     "inputWidgets": {},
     "nuid": "24d2438f-dc95-40cd-98e4-8f2022b49fbd",
     "showTitle": false,
     "title": ""
    }
   },
   "outputs": [],
   "source": [
    "df_sg.shape"
   ]
  },
  {
   "cell_type": "code",
   "execution_count": 0,
   "metadata": {
    "application/vnd.databricks.v1+cell": {
     "cellMetadata": {
      "byteLimit": 2048000,
      "rowLimit": 10000
     },
     "inputWidgets": {},
     "nuid": "4c6ce317-e2ac-462f-9918-27c3cdec9aef",
     "showTitle": false,
     "title": ""
    }
   },
   "outputs": [],
   "source": [
    "df_sg['Model'].nunique()"
   ]
  },
  {
   "cell_type": "code",
   "execution_count": 0,
   "metadata": {
    "application/vnd.databricks.v1+cell": {
     "cellMetadata": {
      "byteLimit": 2048000,
      "rowLimit": 10000
     },
     "inputWidgets": {},
     "nuid": "2edb7686-6854-4f17-90b0-e7046169b43a",
     "showTitle": false,
     "title": ""
    }
   },
   "outputs": [],
   "source": [
    "#Count non zero records\n",
    "SG_non_zero_count = (df_sg['Shipped_Claim']!=0).sum()\n",
    "SG_non_zero_count"
   ]
  },
  {
   "cell_type": "markdown",
   "metadata": {
    "application/vnd.databricks.v1+cell": {
     "cellMetadata": {
      "byteLimit": 2048000,
      "rowLimit": 10000
     },
     "inputWidgets": {},
     "nuid": "5783b07e-abc4-48d0-b861-4bb87540fe5b",
     "showTitle": false,
     "title": ""
    }
   },
   "source": [
    "## Malaysia"
   ]
  },
  {
   "cell_type": "code",
   "execution_count": 0,
   "metadata": {
    "application/vnd.databricks.v1+cell": {
     "cellMetadata": {
      "byteLimit": 2048000,
      "rowLimit": 10000
     },
     "inputWidgets": {},
     "nuid": "45aa1034-385b-44ec-ab0d-7217b27c64f1",
     "showTitle": false,
     "title": ""
    }
   },
   "outputs": [],
   "source": [
    "df_my.shape"
   ]
  },
  {
   "cell_type": "code",
   "execution_count": 0,
   "metadata": {
    "application/vnd.databricks.v1+cell": {
     "cellMetadata": {
      "byteLimit": 2048000,
      "rowLimit": 10000
     },
     "inputWidgets": {},
     "nuid": "385ff3dc-62f8-43e2-b369-94a84f02823f",
     "showTitle": false,
     "title": ""
    }
   },
   "outputs": [],
   "source": [
    "df_my['Model'].nunique()"
   ]
  },
  {
   "cell_type": "code",
   "execution_count": 0,
   "metadata": {
    "application/vnd.databricks.v1+cell": {
     "cellMetadata": {
      "byteLimit": 2048000,
      "rowLimit": 10000
     },
     "inputWidgets": {},
     "nuid": "a333a479-1418-4584-944f-36ff694062ec",
     "showTitle": false,
     "title": ""
    }
   },
   "outputs": [],
   "source": [
    "#Count non zero records\n",
    "MY_non_zero_count = (df_my['Shipped_Claim']!=0).sum()\n",
    "MY_non_zero_count"
   ]
  },
  {
   "cell_type": "code",
   "execution_count": 0,
   "metadata": {
    "application/vnd.databricks.v1+cell": {
     "cellMetadata": {
      "byteLimit": 2048000,
      "rowLimit": 10000
     },
     "inputWidgets": {},
     "nuid": "ca311aa1-6aa2-482d-aacb-178bcdaf5657",
     "showTitle": false,
     "title": ""
    }
   },
   "outputs": [],
   "source": [
    "preprocessed_data.columns"
   ]
  },
  {
   "cell_type": "code",
   "execution_count": 0,
   "metadata": {
    "application/vnd.databricks.v1+cell": {
     "cellMetadata": {
      "byteLimit": 2048000,
      "rowLimit": 10000
     },
     "inputWidgets": {},
     "nuid": "76bdd98d-1fa9-45f9-8a7e-447c9a7b44e5",
     "showTitle": false,
     "title": ""
    }
   },
   "outputs": [],
   "source": [
    "# To extract raw data as CSV\n",
    "# preprocessed_data.to_csv('df_raw.csv', index=False)"
   ]
  },
  {
   "cell_type": "code",
   "execution_count": 0,
   "metadata": {
    "application/vnd.databricks.v1+cell": {
     "cellMetadata": {
      "byteLimit": 2048000,
      "rowLimit": 10000
     },
     "inputWidgets": {},
     "nuid": "f1d3ba83-4c0d-442f-821e-3107670b74ae",
     "showTitle": false,
     "title": ""
    }
   },
   "outputs": [],
   "source": [
    "preprocessed_data.isnull().sum()"
   ]
  },
  {
   "cell_type": "code",
   "execution_count": 0,
   "metadata": {
    "application/vnd.databricks.v1+cell": {
     "cellMetadata": {
      "byteLimit": 2048000,
      "rowLimit": 10000
     },
     "inputWidgets": {},
     "nuid": "010668a2-b5ec-4177-b83d-763ca281509a",
     "showTitle": false,
     "title": ""
    }
   },
   "outputs": [],
   "source": [
    "preprocessed_data"
   ]
  },
  {
   "cell_type": "code",
   "execution_count": 0,
   "metadata": {
    "application/vnd.databricks.v1+cell": {
     "cellMetadata": {
      "byteLimit": 2048000,
      "rowLimit": 10000
     },
     "inputWidgets": {},
     "nuid": "b912218f-c3d3-42fc-a7b7-9217374ecc52",
     "showTitle": false,
     "title": ""
    }
   },
   "outputs": [],
   "source": [
    "# to open data in browser\n",
    "# import dtale\n",
    "# d = dtale.show(preprocessed_data, open_browser=True)"
   ]
  },
  {
   "cell_type": "markdown",
   "metadata": {
    "application/vnd.databricks.v1+cell": {
     "cellMetadata": {
      "byteLimit": 2048000,
      "rowLimit": 10000
     },
     "inputWidgets": {},
     "nuid": "ec62e911-0c34-43db-b650-1b0b43124947",
     "showTitle": false,
     "title": ""
    }
   },
   "source": [
    "# # Data Cleaning"
   ]
  },
  {
   "cell_type": "code",
   "execution_count": 0,
   "metadata": {
    "application/vnd.databricks.v1+cell": {
     "cellMetadata": {
      "byteLimit": 2048000,
      "rowLimit": 10000
     },
     "inputWidgets": {},
     "nuid": "02d97bb3-9a16-49a5-a257-488d851e7361",
     "showTitle": false,
     "title": ""
    }
   },
   "outputs": [],
   "source": [
    "preprocessed_data.shape"
   ]
  },
  {
   "cell_type": "code",
   "execution_count": 0,
   "metadata": {
    "application/vnd.databricks.v1+cell": {
     "cellMetadata": {
      "byteLimit": 2048000,
      "rowLimit": 10000
     },
     "inputWidgets": {},
     "nuid": "e04d07b6-a5f4-479d-b6ea-a55f53df23aa",
     "showTitle": false,
     "title": ""
    }
   },
   "outputs": [],
   "source": [
    "preprocessed_data.columns"
   ]
  },
  {
   "cell_type": "code",
   "execution_count": 0,
   "metadata": {
    "application/vnd.databricks.v1+cell": {
     "cellMetadata": {
      "byteLimit": 2048000,
      "rowLimit": 10000
     },
     "inputWidgets": {},
     "nuid": "88a38781-0e9b-4cb0-8900-5af8d3e6cb24",
     "showTitle": false,
     "title": ""
    }
   },
   "outputs": [],
   "source": [
    "print(preprocessed_data.dtypes)"
   ]
  },
  {
   "cell_type": "code",
   "execution_count": 0,
   "metadata": {
    "application/vnd.databricks.v1+cell": {
     "cellMetadata": {
      "byteLimit": 2048000,
      "rowLimit": 10000
     },
     "inputWidgets": {},
     "nuid": "e260e3a2-98ca-4460-ab2d-a30a7009a280",
     "showTitle": false,
     "title": ""
    }
   },
   "outputs": [],
   "source": [
    "# drop null values \n",
    "preprocessed_data.dropna(subset=['Shipped_Claim'], inplace=True)"
   ]
  },
  {
   "cell_type": "code",
   "execution_count": 0,
   "metadata": {
    "application/vnd.databricks.v1+cell": {
     "cellMetadata": {
      "byteLimit": 2048000,
      "rowLimit": 10000
     },
     "inputWidgets": {},
     "nuid": "07adb5ac-41f9-4f52-bbdd-ff20c083448f",
     "showTitle": false,
     "title": ""
    }
   },
   "outputs": [],
   "source": [
    "preprocessed_data.shape"
   ]
  },
  {
   "cell_type": "code",
   "execution_count": 0,
   "metadata": {
    "application/vnd.databricks.v1+cell": {
     "cellMetadata": {
      "byteLimit": 2048000,
      "rowLimit": 10000
     },
     "inputWidgets": {},
     "nuid": "0d9ec174-3934-46b1-b683-ad06d09777ba",
     "showTitle": false,
     "title": ""
    }
   },
   "outputs": [],
   "source": [
    "\n",
    "# Drop rows where both 'Shipped_Claim' and 'Closing_Base' are zero\n",
    "condition = ~((preprocessed_data['Shipped_Claim'] == 0) & (preprocessed_data['Closing_Base'] == 0)) \n",
    "# Filter DataFrame based on condition\n",
    "preprocessed_data = preprocessed_data[condition]"
   ]
  },
  {
   "cell_type": "code",
   "execution_count": 0,
   "metadata": {
    "application/vnd.databricks.v1+cell": {
     "cellMetadata": {
      "byteLimit": 2048000,
      "rowLimit": 10000
     },
     "inputWidgets": {},
     "nuid": "84260ad9-20c8-432e-a4fb-d164af50f2c8",
     "showTitle": false,
     "title": ""
    }
   },
   "outputs": [],
   "source": [
    "preprocessed_data"
   ]
  },
  {
   "cell_type": "code",
   "execution_count": 0,
   "metadata": {
    "application/vnd.databricks.v1+cell": {
     "cellMetadata": {
      "byteLimit": 2048000,
      "rowLimit": 10000
     },
     "inputWidgets": {},
     "nuid": "def43882-3da2-4c53-a97b-773e6986e033",
     "showTitle": false,
     "title": ""
    }
   },
   "outputs": [],
   "source": [
    "preprocessed_data.shape"
   ]
  },
  {
   "cell_type": "code",
   "execution_count": 0,
   "metadata": {
    "application/vnd.databricks.v1+cell": {
     "cellMetadata": {
      "byteLimit": 2048000,
      "rowLimit": 10000
     },
     "inputWidgets": {},
     "nuid": "9975d25d-e683-4865-a205-3f0d48f4e88e",
     "showTitle": false,
     "title": ""
    }
   },
   "outputs": [],
   "source": [
    "preprocessed_data['Model'].nunique()"
   ]
  },
  {
   "cell_type": "code",
   "execution_count": 0,
   "metadata": {
    "application/vnd.databricks.v1+cell": {
     "cellMetadata": {
      "byteLimit": 2048000,
      "rowLimit": 10000
     },
     "inputWidgets": {},
     "nuid": "57d21d05-e48f-4581-85da-449eaf18d54d",
     "showTitle": false,
     "title": ""
    }
   },
   "outputs": [],
   "source": [
    "# read pred succ mapping\n",
    "df_pred_fixed = pd.read_csv('df_pred_fixed-16feb.csv')\n",
    "df_pred_fixed.shape"
   ]
  },
  {
   "cell_type": "code",
   "execution_count": 0,
   "metadata": {
    "application/vnd.databricks.v1+cell": {
     "cellMetadata": {
      "byteLimit": 2048000,
      "rowLimit": 10000
     },
     "inputWidgets": {},
     "nuid": "71aadfb1-adb1-49c4-92d3-a27f1a6536a1",
     "showTitle": false,
     "title": ""
    }
   },
   "outputs": [],
   "source": [
    "# Fill missing Predecessor in raw data\n",
    "# Merge preprocessed_data with df_pred_fixed to map each Model to its Predecessor in df_pred_fixed\n",
    "merged_df = preprocessed_data.merge(df_pred_fixed[['Model', 'Predecessor']], on='Model', how='left', suffixes=('', '_fixed'))\n",
    " \n",
    "# Fill missing Predecessor values in preprocessed_data with those from df_pred_fixed\n",
    "merged_df['Predecessor'] = merged_df['Predecessor'].fillna(merged_df['Predecessor_fixed'])\n",
    " \n",
    "# Drop the temporary 'Predecessor_fixed' column after filling the missing values\n",
    "merged_df.drop(columns=['Predecessor_fixed'], inplace=True)\n",
    " \n",
    "# Updating preprocessed_data to reflect these changes\n",
    "preprocessed_data = merged_df"
   ]
  },
  {
   "cell_type": "code",
   "execution_count": 0,
   "metadata": {
    "application/vnd.databricks.v1+cell": {
     "cellMetadata": {
      "byteLimit": 2048000,
      "rowLimit": 10000
     },
     "inputWidgets": {},
     "nuid": "e0fdc1c2-22ce-4bae-8074-8fc2c55545d0",
     "showTitle": false,
     "title": ""
    }
   },
   "outputs": [],
   "source": [
    "preprocessed_data.shape"
   ]
  },
  {
   "cell_type": "code",
   "execution_count": 0,
   "metadata": {
    "application/vnd.databricks.v1+cell": {
     "cellMetadata": {
      "byteLimit": 2048000,
      "rowLimit": 10000
     },
     "inputWidgets": {},
     "nuid": "035a2652-bd95-48a7-aa61-b5c5f777e4d5",
     "showTitle": false,
     "title": ""
    }
   },
   "outputs": [],
   "source": [
    "# Drop enteries having Model Age na\n",
    "preprocessed_data.dropna(subset=['Model_Age_Days'], inplace =True)"
   ]
  },
  {
   "cell_type": "code",
   "execution_count": 0,
   "metadata": {
    "application/vnd.databricks.v1+cell": {
     "cellMetadata": {
      "byteLimit": 2048000,
      "rowLimit": 10000
     },
     "inputWidgets": {},
     "nuid": "d2c9fe85-35b3-4a43-97d0-34e507611efc",
     "showTitle": false,
     "title": ""
    }
   },
   "outputs": [],
   "source": [
    "preprocessed_data.shape"
   ]
  },
  {
   "cell_type": "code",
   "execution_count": 0,
   "metadata": {
    "application/vnd.databricks.v1+cell": {
     "cellMetadata": {
      "byteLimit": 2048000,
      "rowLimit": 10000
     },
     "inputWidgets": {},
     "nuid": "0b32eea3-a14a-40d4-a569-4df1d23cf237",
     "showTitle": false,
     "title": ""
    }
   },
   "outputs": [],
   "source": [
    "# Drop rows where 'Model Age' is negative\n",
    "\n",
    "preprocessed_data = preprocessed_data[preprocessed_data['Model_Age_Days']!='NULL']\n",
    "preprocessed_data['Model_Age_Days'] = preprocessed_data['Model_Age_Days'].astype(int)\n",
    "preprocessed_data = preprocessed_data[preprocessed_data['Model_Age_Days']>= 0].reset_index(drop=True)"
   ]
  },
  {
   "cell_type": "code",
   "execution_count": 0,
   "metadata": {
    "application/vnd.databricks.v1+cell": {
     "cellMetadata": {
      "byteLimit": 2048000,
      "rowLimit": 10000
     },
     "inputWidgets": {},
     "nuid": "99fde8f5-b5ba-4c89-9056-c38688b554eb",
     "showTitle": false,
     "title": ""
    }
   },
   "outputs": [],
   "source": [
    "#preprocessed_data['Model_Age_Days'].nunique() \n",
    "#Launch date is not available for those records\n",
    "\n",
    "count_nulls=(preprocessed_data['Model_Age_Days'] == 'NULL').sum()\n",
    "count_nulls\n"
   ]
  },
  {
   "cell_type": "code",
   "execution_count": 0,
   "metadata": {
    "application/vnd.databricks.v1+cell": {
     "cellMetadata": {
      "byteLimit": 2048000,
      "rowLimit": 10000
     },
     "inputWidgets": {},
     "nuid": "073b9b04-a5e0-436c-9642-cb5d7537abb8",
     "showTitle": false,
     "title": ""
    }
   },
   "outputs": [],
   "source": [
    "preprocessed_data.shape"
   ]
  },
  {
   "cell_type": "code",
   "execution_count": 0,
   "metadata": {
    "application/vnd.databricks.v1+cell": {
     "cellMetadata": {
      "byteLimit": 2048000,
      "rowLimit": 10000
     },
     "inputWidgets": {},
     "nuid": "c9a734e3-e945-4d37-8e43-3906137631dd",
     "showTitle": false,
     "title": ""
    }
   },
   "outputs": [],
   "source": [
    "count_nulls=(preprocessed_data['Model_Series'] == 'NA').sum()\n",
    "count_nulls"
   ]
  },
  {
   "cell_type": "code",
   "execution_count": 0,
   "metadata": {
    "application/vnd.databricks.v1+cell": {
     "cellMetadata": {
      "byteLimit": 2048000,
      "rowLimit": 10000
     },
     "inputWidgets": {},
     "nuid": "b7bf6e54-2bd4-4910-a4f7-331bb227fcc1",
     "showTitle": false,
     "title": ""
    }
   },
   "outputs": [],
   "source": [
    "#validating null, n/a, na values\n",
    "\n",
    "#list(preprocessed_data['Model_Series'].unique()) #'NA'\n",
    "# list(preprocessed_data['Predecessor'].unique()) #'N/A', 'NA', nan\n",
    "\n",
    "list(preprocessed_data['Successor'].unique()) #'N/A', 'NA'\n",
    "\n",
    "# list(preprocessed_data['Model_No_Color'].unique()) #'Watch', 'Ke',\n",
    "#  'KEY2',\n",
    "#  'KEY2LEC',\n",
    "#  'KEY2LE',\n",
    "#  'KEY2LESL',\n",
    "#   None,"
   ]
  },
  {
   "cell_type": "code",
   "execution_count": 0,
   "metadata": {
    "application/vnd.databricks.v1+cell": {
     "cellMetadata": {
      "byteLimit": 2048000,
      "rowLimit": 10000
     },
     "inputWidgets": {},
     "nuid": "5bc79a5f-6baf-488c-8c65-88573df2d29d",
     "showTitle": false,
     "title": ""
    }
   },
   "outputs": [],
   "source": [
    "# Drop rows where values are NA, N/A, nan, NULL in predecessor\n",
    "preprocessed_data['Predecessor'] = preprocessed_data['Predecessor'].replace('NA', 'None')\n",
    "preprocessed_data['Predecessor'] = preprocessed_data['Predecessor'].replace('N/A', 'None')\n",
    "preprocessed_data['Predecessor'] = preprocessed_data['Predecessor'].replace('NULL', 'None')\n",
    "preprocessed_data['Predecessor'].fillna('None', inplace=True)\n"
   ]
  },
  {
   "cell_type": "code",
   "execution_count": 0,
   "metadata": {
    "application/vnd.databricks.v1+cell": {
     "cellMetadata": {
      "byteLimit": 2048000,
      "rowLimit": 10000
     },
     "inputWidgets": {},
     "nuid": "fcf96da7-de69-4de7-92eb-6dbac03470f8",
     "showTitle": false,
     "title": ""
    }
   },
   "outputs": [],
   "source": [
    "# Drop rows where values are NA, N/A, nan, NULL in successor\n",
    "preprocessed_data['Successor'] = preprocessed_data['Successor'].replace('NA', 'None')\n",
    "preprocessed_data['Successor'] = preprocessed_data['Successor'].replace('N/A', 'None')\n",
    "preprocessed_data['Successor'] = preprocessed_data['Successor'].replace('NULL', 'None')\n",
    "preprocessed_data['Successor'].fillna('None', inplace=True)\n",
    "# preprocessed_data['Successor'].fillna('None', inplace=True)\n",
    "# preprocessed_data['Model_Series'].fillna('None', inplace=True)"
   ]
  },
  {
   "cell_type": "code",
   "execution_count": 0,
   "metadata": {
    "application/vnd.databricks.v1+cell": {
     "cellMetadata": {
      "byteLimit": 2048000,
      "rowLimit": 10000
     },
     "inputWidgets": {},
     "nuid": "796909b4-dfed-4212-bca8-129f38082e7c",
     "showTitle": false,
     "title": ""
    }
   },
   "outputs": [],
   "source": [
    "# Drop rows where values are NA, N/A, nan, NULL in Model_Series\n",
    "preprocessed_data['Model_Series'] = preprocessed_data['Model_Series'].replace('NA', 'None')\n",
    "preprocessed_data['Model_Series'] = preprocessed_data['Model_Series'].replace('N/A', 'None')\n",
    "preprocessed_data['Model_Series'] = preprocessed_data['Model_Series'].replace('NULL', 'None')\n",
    "preprocessed_data['Model_Series'].fillna('None', inplace=True)"
   ]
  },
  {
   "cell_type": "code",
   "execution_count": 0,
   "metadata": {
    "application/vnd.databricks.v1+cell": {
     "cellMetadata": {
      "byteLimit": 2048000,
      "rowLimit": 10000
     },
     "inputWidgets": {},
     "nuid": "268f9a6f-e786-4b98-a9fd-c03f7125e50f",
     "showTitle": false,
     "title": ""
    }
   },
   "outputs": [],
   "source": [
    "# Drop rows where values are NA, N/A, nan, NULL in Model_No_Color\n",
    "preprocessed_data['Model_No_Color'] = preprocessed_data['Model_No_Color'].replace('NA', 'None')\n",
    "preprocessed_data['Model_No_Color'] = preprocessed_data['Model_No_Color'].replace('N/A', 'None')\n",
    "preprocessed_data['Model_No_Color'] = preprocessed_data['Model_No_Color'].replace('NULL', 'None')\n",
    "preprocessed_data['Model_No_Color'].fillna('None', inplace=True)"
   ]
  },
  {
   "cell_type": "code",
   "execution_count": 0,
   "metadata": {
    "application/vnd.databricks.v1+cell": {
     "cellMetadata": {
      "byteLimit": 2048000,
      "rowLimit": 10000
     },
     "inputWidgets": {},
     "nuid": "c4881a68-4a74-421f-a33f-dccb3ba701bf",
     "showTitle": false,
     "title": ""
    }
   },
   "outputs": [],
   "source": [
    "preprocessed_data.shape"
   ]
  },
  {
   "cell_type": "code",
   "execution_count": 0,
   "metadata": {
    "application/vnd.databricks.v1+cell": {
     "cellMetadata": {
      "byteLimit": 2048000,
      "rowLimit": 10000
     },
     "inputWidgets": {},
     "nuid": "c3a9599f-3762-4816-af20-f5a7568e794c",
     "showTitle": false,
     "title": ""
    }
   },
   "outputs": [],
   "source": [
    "preprocessed_data.isna().sum()"
   ]
  },
  {
   "cell_type": "code",
   "execution_count": 0,
   "metadata": {
    "application/vnd.databricks.v1+cell": {
     "cellMetadata": {
      "byteLimit": 2048000,
      "rowLimit": 10000
     },
     "inputWidgets": {},
     "nuid": "3ada1fe7-c94c-46f6-911b-7fb107f1a768",
     "showTitle": false,
     "title": ""
    }
   },
   "outputs": [],
   "source": [
    "preprocessed_data['Product_Launch_Date'].unique()"
   ]
  },
  {
   "cell_type": "code",
   "execution_count": 0,
   "metadata": {
    "application/vnd.databricks.v1+cell": {
     "cellMetadata": {
      "byteLimit": 2048000,
      "rowLimit": 10000
     },
     "inputWidgets": {},
     "nuid": "fb5e88a4-579a-436a-a6a7-18244c047acc",
     "showTitle": false,
     "title": ""
    }
   },
   "outputs": [],
   "source": [
    "\n",
    "preprocessed_data_filtered1 = preprocessed_data # backup var\n",
    "preprocessed_data_filtered1.shape\n",
    "# drop rows with null values for product launch date\n",
    "preprocessed_data = preprocessed_data[preprocessed_data['Product_Launch_Date']!='NULL']"
   ]
  },
  {
   "cell_type": "code",
   "execution_count": 0,
   "metadata": {
    "application/vnd.databricks.v1+cell": {
     "cellMetadata": {
      "byteLimit": 2048000,
      "rowLimit": 10000
     },
     "inputWidgets": {},
     "nuid": "96aec50a-2de7-457c-8a3d-6e2c48afab0f",
     "showTitle": false,
     "title": ""
    }
   },
   "outputs": [],
   "source": [
    "#convert mixed date formats into standard \n",
    "import pandas as pd \n",
    "def parse_mixed_dates(date_str): # Define the date formats to try \n",
    "    date_formats = ['%Y-%m-%d', '%d-%m-%Y'] \n",
    "\n",
    "    # Iterate over the date formats and try to convert the date string to a datetime object \n",
    "    for fmt in date_formats: \n",
    "        try: \n",
    "            return pd.to_datetime(date_str, format=fmt) \n",
    "        except ValueError: \n",
    "            continue \n",
    "    # If none of the formats work, return pd.NaT \n",
    "    return pd.NaT # Assuming 'df' is your DataFrame and 'mixed_date_col' is the column with mixed date formats\n",
    "\n",
    "preprocessed_data['Product_Launch_Date'] = preprocessed_data['Product_Launch_Date'].apply(parse_mixed_dates)\n",
    "# Verify the result \n",
    "print(preprocessed_data['Product_Launch_Date'].head())"
   ]
  },
  {
   "cell_type": "code",
   "execution_count": 0,
   "metadata": {
    "application/vnd.databricks.v1+cell": {
     "cellMetadata": {
      "byteLimit": 2048000,
      "rowLimit": 10000
     },
     "inputWidgets": {},
     "nuid": "17042425-3386-4011-9b6b-1c372987cfd9",
     "showTitle": false,
     "title": ""
    }
   },
   "outputs": [],
   "source": [
    "preprocessed_data['Product_Launch_Date'].unique()"
   ]
  },
  {
   "cell_type": "code",
   "execution_count": 0,
   "metadata": {
    "application/vnd.databricks.v1+cell": {
     "cellMetadata": {
      "byteLimit": 2048000,
      "rowLimit": 10000
     },
     "inputWidgets": {},
     "nuid": "a0ba1460-40f7-4d57-ae16-854a224b13d2",
     "showTitle": false,
     "title": ""
    }
   },
   "outputs": [],
   "source": [
    "preprocessed_data['Model_Series_Launch_Date'].unique()"
   ]
  },
  {
   "cell_type": "code",
   "execution_count": 0,
   "metadata": {
    "application/vnd.databricks.v1+cell": {
     "cellMetadata": {
      "byteLimit": 2048000,
      "rowLimit": 10000
     },
     "inputWidgets": {},
     "nuid": "8550ac5f-aa4b-4f82-be1c-5ae11d5cb4d1",
     "showTitle": false,
     "title": ""
    }
   },
   "outputs": [],
   "source": [
    "preprocessed_data['Model_Series_Launch_Date'] = preprocessed_data['Model_Series_Launch_Date'].apply(parse_mixed_dates)"
   ]
  },
  {
   "cell_type": "code",
   "execution_count": 0,
   "metadata": {
    "application/vnd.databricks.v1+cell": {
     "cellMetadata": {
      "byteLimit": 2048000,
      "rowLimit": 10000
     },
     "inputWidgets": {},
     "nuid": "5d0ac4a7-04a2-4ef1-a2fe-4ec5bff6276d",
     "showTitle": false,
     "title": ""
    }
   },
   "outputs": [],
   "source": [
    "preprocessed_data['Model_Series_Launch_Date'].unique()"
   ]
  },
  {
   "cell_type": "code",
   "execution_count": 0,
   "metadata": {
    "application/vnd.databricks.v1+cell": {
     "cellMetadata": {
      "byteLimit": 2048000,
      "rowLimit": 10000
     },
     "inputWidgets": {},
     "nuid": "ee0538d9-d63f-4982-a0cf-a5ce160bd5ef",
     "showTitle": false,
     "title": ""
    }
   },
   "outputs": [],
   "source": [
    "preprocessed_data.isnull().sum()"
   ]
  },
  {
   "cell_type": "code",
   "execution_count": 0,
   "metadata": {
    "application/vnd.databricks.v1+cell": {
     "cellMetadata": {
      "byteLimit": 2048000,
      "rowLimit": 10000
     },
     "inputWidgets": {},
     "nuid": "84620369-324d-4876-90de-c2a8daed2710",
     "showTitle": false,
     "title": ""
    }
   },
   "outputs": [],
   "source": [
    "# Extract year and month into new columns for 'Product_Launch_Date' \n",
    "preprocessed_data['Product_Launch_Year'] = preprocessed_data['Product_Launch_Date'].dt.year \n",
    "preprocessed_data['Product_Launch_Month'] = preprocessed_data['Product_Launch_Date'].dt.month \n",
    "# Extract year and month into new columns for 'Model_Series_Launch_Date' \n",
    "preprocessed_data['Model_Series_Launch_Year'] = preprocessed_data['Model_Series_Launch_Date'].dt.year \n",
    "preprocessed_data['Model_Series_Launch_Month'] = preprocessed_data['Model_Series_Launch_Date'].dt.month "
   ]
  },
  {
   "cell_type": "code",
   "execution_count": 0,
   "metadata": {
    "application/vnd.databricks.v1+cell": {
     "cellMetadata": {
      "byteLimit": 2048000,
      "rowLimit": 10000
     },
     "inputWidgets": {},
     "nuid": "8fb83870-b408-4870-a174-8a7a09fbabc1",
     "showTitle": false,
     "title": ""
    }
   },
   "outputs": [],
   "source": [
    "preprocessed_data.isnull().sum()"
   ]
  },
  {
   "cell_type": "code",
   "execution_count": 0,
   "metadata": {
    "application/vnd.databricks.v1+cell": {
     "cellMetadata": {
      "byteLimit": 2048000,
      "rowLimit": 10000
     },
     "inputWidgets": {},
     "nuid": "0ce48a1a-5e85-4a32-925d-6e63cf6c37a3",
     "showTitle": false,
     "title": ""
    }
   },
   "outputs": [],
   "source": [
    "preprocessed_data.display()"
   ]
  },
  {
   "cell_type": "code",
   "execution_count": 0,
   "metadata": {
    "application/vnd.databricks.v1+cell": {
     "cellMetadata": {
      "byteLimit": 2048000,
      "rowLimit": 10000
     },
     "inputWidgets": {},
     "nuid": "13073031-c05c-4d5c-a0a4-d64acc49cee6",
     "showTitle": false,
     "title": ""
    }
   },
   "outputs": [],
   "source": [
    "# Make Model Type columns\n",
    "type_patterns = ['PLUS', 'ULTRA', 'FOLD', 'EDGE', 'DUO', 'FLIP', 'FE','STAR','LITE','PRO MAX', 'PRO', 'MINI', 'MAX']\n",
    "\n",
    "# Extract MODEL_TYPE based on patterns\n",
    "preprocessed_data['Model_Type'] = preprocessed_data['Model_Family'].str.extract('(' + '|'.join(type_patterns) + ')', expand=False)\n",
    "\n",
    "# Fill missing values in MODEL_TYPE with 'Regular'\n",
    "preprocessed_data['Model_Type'].fillna('BASIC', inplace=True)"
   ]
  },
  {
   "cell_type": "code",
   "execution_count": 0,
   "metadata": {
    "application/vnd.databricks.v1+cell": {
     "cellMetadata": {
      "byteLimit": 2048000,
      "rowLimit": 10000
     },
     "inputWidgets": {},
     "nuid": "4db2b2d9-b5bd-4451-b181-6fa7f4cc1b7e",
     "showTitle": false,
     "title": ""
    }
   },
   "outputs": [],
   "source": [
    "preprocessed_data.display()"
   ]
  },
  {
   "cell_type": "code",
   "execution_count": 0,
   "metadata": {
    "application/vnd.databricks.v1+cell": {
     "cellMetadata": {
      "byteLimit": 2048000,
      "rowLimit": 10000
     },
     "inputWidgets": {},
     "nuid": "c539c6ab-0970-4bca-b041-f09cb456ad64",
     "showTitle": false,
     "title": ""
    }
   },
   "outputs": [],
   "source": [
    "preprocessed_data.sort_values(by='YearMonth', inplace=True)"
   ]
  },
  {
   "cell_type": "code",
   "execution_count": 0,
   "metadata": {
    "application/vnd.databricks.v1+cell": {
     "cellMetadata": {
      "byteLimit": 2048000,
      "rowLimit": 10000
     },
     "inputWidgets": {},
     "nuid": "434dfd7c-5841-4028-9c74-e63f0b1c36db",
     "showTitle": false,
     "title": ""
    }
   },
   "outputs": [],
   "source": [
    "preprocessed_data.display()"
   ]
  },
  {
   "cell_type": "code",
   "execution_count": 0,
   "metadata": {
    "application/vnd.databricks.v1+cell": {
     "cellMetadata": {
      "byteLimit": 2048000,
      "rowLimit": 10000
     },
     "inputWidgets": {},
     "nuid": "ca775f32-4df1-4bb1-8727-b2f3d590afff",
     "showTitle": false,
     "title": ""
    }
   },
   "outputs": [],
   "source": [
    "preprocessed_data.shape"
   ]
  },
  {
   "cell_type": "code",
   "execution_count": 0,
   "metadata": {
    "application/vnd.databricks.v1+cell": {
     "cellMetadata": {
      "byteLimit": 2048000,
      "rowLimit": 10000
     },
     "inputWidgets": {},
     "nuid": "1a0a588b-efde-4610-bf2c-390dfe7c4a4b",
     "showTitle": false,
     "title": ""
    }
   },
   "outputs": [],
   "source": [
    "# Convert the 'YearMonth' column to datetime (ignoring missing values)\n",
    "preprocessed_data['YearMonth'] = pd.to_datetime(preprocessed_data['YearMonth'], format='%Y%m', errors='coerce')\n",
    " \n",
    "# Extract the 'Year' and 'Month' into new columns\n",
    "preprocessed_data['Year'] = preprocessed_data['YearMonth'].dt.year\n",
    "preprocessed_data['Month'] = preprocessed_data['YearMonth'].dt.month"
   ]
  },
  {
   "cell_type": "code",
   "execution_count": 0,
   "metadata": {
    "application/vnd.databricks.v1+cell": {
     "cellMetadata": {
      "byteLimit": 2048000,
      "rowLimit": 10000
     },
     "inputWidgets": {},
     "nuid": "495d7934-012d-456e-8faa-242c9fd86a17",
     "showTitle": false,
     "title": ""
    }
   },
   "outputs": [],
   "source": [
    "# # Import necessary libraries  \n",
    "# from pyspark.sql import SparkSession  \n",
    "  \n",
    "# # Create a Spark Session  \n",
    "# spark = SparkSession.builder.getOrCreate()  \n",
    "\n",
    "# # Convert the pandas DataFrame to a Spark DataFrame  \n",
    "# spark_df = spark.createDataFrame(preprocessed_data)  \n",
    "  \n",
    "# # Write the Spark DataFrame to DBFS in Delta format  \n",
    "# spark_df.write.format(\"delta\").save(\"/preprocessed_data_15feb2024\")\n",
    "# spark.sql(\"USE CATALOG `edp-apac-uat`\") # Unity Catalog name\n",
    "# spark.sql(\"USE l1_asurion_apac\") # Schema (database) name\n",
    "# # Create a table in the Databricks Unified Data Catalog  \n",
    "# spark.sql(\"CREATE TABLE preprocessed_data_15feb USING DELTA LOCATION '/preprocessed_data_15feb2024'\") \n",
    "\n",
    "list(preprocessed_data.columns)"
   ]
  },
  {
   "cell_type": "code",
   "execution_count": 0,
   "metadata": {
    "application/vnd.databricks.v1+cell": {
     "cellMetadata": {
      "byteLimit": 2048000,
      "rowLimit": 10000
     },
     "inputWidgets": {},
     "nuid": "8c7f0b96-a57c-4cc8-908a-fb029f4dfecd",
     "showTitle": false,
     "title": ""
    }
   },
   "outputs": [],
   "source": [
    "# Storing ML results into unity catalog\n",
    "\n",
    "from pyspark.sql import SparkSession\n",
    "from pyspark.sql.functions import abs, col\n",
    "import pyspark.sql.functions as F\n",
    "\n",
    "# Initialize Spark Session\n",
    "spark = SparkSession.builder.appName(\"preprocessed_data_15feb2024\").getOrCreate()\n",
    "# Set the current catalog and schema (database) if necessary\n",
    "spark.sql(\"USE CATALOG `edp-apac-uat`\") # Unity Catalog name\n",
    "spark.sql(\"USE l1_asurion_apac\") # Schema (database) name\n",
    "\n",
    "# Create DataFrame\n",
    "results_df = spark.createDataFrame(preprocessed_data, schema=list(preprocessed_data.columns))\n",
    "\n",
    "# Display the DataFrame\n",
    "results_df.show()\n",
    "\n",
    "# Write the DataFrame to a Unity Catalog table\n",
    "results_df.write.mode(\"overwrite\").saveAsTable(\"l1_asurion_apac.preprocessed_data_15feb2024\")"
   ]
  },
  {
   "cell_type": "code",
   "execution_count": 0,
   "metadata": {
    "application/vnd.databricks.v1+cell": {
     "cellMetadata": {},
     "inputWidgets": {},
     "nuid": "db4caa2f-67fe-4771-921d-31c8a9b72563",
     "showTitle": false,
     "title": ""
    }
   },
   "outputs": [],
   "source": []
  }
 ],
 "metadata": {
  "application/vnd.databricks.v1+notebook": {
   "dashboards": [],
   "language": "python",
   "notebookMetadata": {
    "mostRecentlyExecutedCommandWithImplicitDF": {
     "commandId": 3754166726867334,
     "dataframes": [
      "_sqldf"
     ]
    },
    "pythonIndentUnit": 4
   },
   "notebookName": "Data Preprocessing",
   "widgets": {}
  },
  "kernelspec": {
   "display_name": "Python 3 (ipykernel)",
   "language": "python",
   "name": "python3"
  },
  "language_info": {
   "codemirror_mode": {
    "name": "ipython",
    "version": 3
   },
   "file_extension": ".py",
   "mimetype": "text/x-python",
   "name": "python",
   "nbconvert_exporter": "python",
   "pygments_lexer": "ipython3",
   "version": "3.8.17"
  }
 },
 "nbformat": 4,
 "nbformat_minor": 0
}
