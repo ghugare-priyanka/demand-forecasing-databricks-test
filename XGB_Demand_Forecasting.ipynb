{
 "cells": [
  {
   "cell_type": "code",
   "execution_count": 0,
   "metadata": {
    "application/vnd.databricks.v1+cell": {
     "cellMetadata": {
      "byteLimit": 2048000,
      "rowLimit": 10000
     },
     "inputWidgets": {},
     "nuid": "2fde3784-d8da-4eb6-8710-e546e3b02f9d",
     "showTitle": false,
     "title": ""
    }
   },
   "outputs": [],
   "source": [
    "%pip install \"flaml[automl]\" openml"
   ]
  },
  {
   "cell_type": "code",
   "execution_count": 0,
   "metadata": {
    "application/vnd.databricks.v1+cell": {
     "cellMetadata": {
      "byteLimit": 2048000,
      "rowLimit": 10000
     },
     "inputWidgets": {},
     "nuid": "d8eca88e-7c58-4dc4-8834-81f8b2c12886",
     "showTitle": false,
     "title": ""
    }
   },
   "outputs": [],
   "source": [
    "dbutils.library.restartPython() #to reflect the flaml lib"
   ]
  },
  {
   "cell_type": "code",
   "execution_count": 0,
   "metadata": {
    "application/vnd.databricks.v1+cell": {
     "cellMetadata": {
      "byteLimit": 2048000,
      "rowLimit": 10000
     },
     "inputWidgets": {},
     "nuid": "e7301d33-e3ac-4159-8a2a-3d5de1b69309",
     "showTitle": false,
     "title": ""
    },
    "tags": []
   },
   "outputs": [],
   "source": [
    "import pandas as pd\n",
    "import numpy as np\n",
    "from IPython.display import display\n",
    "import xgboost as xgb\n",
    "import pandas as pd\n",
    "import numpy as np\n",
    "from sklearn.preprocessing import LabelEncoder, OrdinalEncoder\n",
    "from pandas.tseries.offsets import DateOffset\n",
    "from itertools import product\n",
    "from dateutil.relativedelta import relativedelta\n",
    "from datetime import datetime\n",
    "import plotly.graph_objects as go\n",
    "from flaml import AutoML\n",
    "from sklearn.metrics import mean_squared_error, r2_score\n",
    "import boto3\n",
    "import os\n",
    "import io\n",
    "import seaborn as sns\n",
    "import matplotlib.pyplot as plt\n"
   ]
  },
  {
   "cell_type": "code",
   "execution_count": 0,
   "metadata": {
    "application/vnd.databricks.v1+cell": {
     "cellMetadata": {
      "byteLimit": 2048000,
      "rowLimit": 10000
     },
     "inputWidgets": {},
     "nuid": "0ce1768a-7a6f-42de-9d39-848810ee121a",
     "showTitle": false,
     "title": ""
    },
    "tags": []
   },
   "outputs": [],
   "source": [
    "def read_data_from_unity_catalog():\n",
    "    # Data via unity catalog\n",
    "    # Set the current catalog and schema (database) if necessary\n",
    "    spark.sql(\"USE CATALOG `edp-apac-uat`\") # Unity Catalog name\n",
    "    spark.sql(\"USE l1_asurion_apac\") # Schema (database) name\n",
    "\n",
    "    # Query a table\n",
    "    preprocessed_data = spark.sql(\"SELECT * FROM reduced_filtered_preprocessed_data_19feb2024\") # Table name #spark.read.table\n",
    "    #preprocessed_data.show()\n",
    "\n",
    "    # Print the schema to understand data types\n",
    "    # preprocessed_data.printSchema()\n",
    "    preprocessed_data.display()\n",
    "    preprocessed_data = preprocessed_data.toPandas()\n",
    "    return preprocessed_data"
   ]
  },
  {
   "cell_type": "code",
   "execution_count": 0,
   "metadata": {
    "application/vnd.databricks.v1+cell": {
     "cellMetadata": {
      "byteLimit": 2048000,
      "rowLimit": 10000
     },
     "inputWidgets": {},
     "nuid": "fc6b37e4-8dac-4239-9b68-8868de67be89",
     "showTitle": false,
     "title": ""
    },
    "tags": []
   },
   "outputs": [],
   "source": [
    "preprocessed_data = read_data_from_unity_catalog()"
   ]
  },
  {
   "cell_type": "code",
   "execution_count": 0,
   "metadata": {
    "application/vnd.databricks.v1+cell": {
     "cellMetadata": {
      "byteLimit": 2048000,
      "rowLimit": 10000
     },
     "inputWidgets": {},
     "nuid": "e6c384c4-f585-4eb2-a10f-63980f20f9b5",
     "showTitle": false,
     "title": ""
    },
    "tags": []
   },
   "outputs": [],
   "source": [
    "preprocessed_data.isna().sum()"
   ]
  },
  {
   "cell_type": "code",
   "execution_count": 0,
   "metadata": {
    "application/vnd.databricks.v1+cell": {
     "cellMetadata": {
      "byteLimit": 2048000,
      "rowLimit": 10000
     },
     "inputWidgets": {},
     "nuid": "400aa467-79c2-467d-b3d6-2f4dd16ecf14",
     "showTitle": false,
     "title": ""
    },
    "tags": []
   },
   "outputs": [],
   "source": [
    "preprocessed_data.dtypes"
   ]
  },
  {
   "cell_type": "code",
   "execution_count": 0,
   "metadata": {
    "application/vnd.databricks.v1+cell": {
     "cellMetadata": {
      "byteLimit": 2048000,
      "rowLimit": 10000
     },
     "inputWidgets": {},
     "nuid": "55d6c5ff-de6e-4269-a4c5-1a43f607ede6",
     "showTitle": false,
     "title": ""
    },
    "tags": []
   },
   "outputs": [],
   "source": [
    "preprocessed_data['Shipped_Claim'].unique()"
   ]
  },
  {
   "cell_type": "code",
   "execution_count": 0,
   "metadata": {
    "application/vnd.databricks.v1+cell": {
     "cellMetadata": {
      "byteLimit": 2048000,
      "rowLimit": 10000
     },
     "inputWidgets": {},
     "nuid": "41a00cec-a98b-471e-b164-b8808c02f2af",
     "showTitle": false,
     "title": ""
    },
    "tags": []
   },
   "outputs": [],
   "source": [
    "#Create lagged features for shipping claims\n",
    "number_of_lags = 3\n",
    "for lag in range(1, number_of_lags + 1):\n",
    "    preprocessed_data[f'Lag_Shipped_Claim_{lag}'] = preprocessed_data['Shipped_Claim'].shift(lag)"
   ]
  },
  {
   "cell_type": "code",
   "execution_count": 0,
   "metadata": {
    "application/vnd.databricks.v1+cell": {
     "cellMetadata": {
      "byteLimit": 2048000,
      "rowLimit": 10000
     },
     "inputWidgets": {},
     "nuid": "64674277-2cc8-4803-a7d2-6d886d2d54df",
     "showTitle": false,
     "title": ""
    }
   },
   "outputs": [],
   "source": [
    "#Create lagged features for closing subs\n",
    "number_of_lags = 3\n",
    "for lag in range(1, number_of_lags + 1):\n",
    "    preprocessed_data[f'Lag_Closing_Base_{lag}'] = preprocessed_data['Closing_Base'].shift(lag)"
   ]
  },
  {
   "cell_type": "code",
   "execution_count": 0,
   "metadata": {
    "application/vnd.databricks.v1+cell": {
     "cellMetadata": {
      "byteLimit": 2048000,
      "rowLimit": 10000
     },
     "inputWidgets": {},
     "nuid": "54443a31-d625-421c-9e26-13bbd5484cb5",
     "showTitle": false,
     "title": ""
    }
   },
   "outputs": [],
   "source": [
    "#Add index\n",
    "preprocessed_data['Unique_ID'] =  preprocessed_data['Model'].astype(str) + '-' + preprocessed_data['Country'].astype(str) "
   ]
  },
  {
   "cell_type": "code",
   "execution_count": 0,
   "metadata": {
    "application/vnd.databricks.v1+cell": {
     "cellMetadata": {
      "byteLimit": 2048000,
      "rowLimit": 10000
     },
     "inputWidgets": {},
     "nuid": "08af64e5-8b19-4ffd-a0c6-adf212ea3b68",
     "showTitle": false,
     "title": ""
    },
    "tags": []
   },
   "outputs": [],
   "source": [
    "preprocessed_data.display()"
   ]
  },
  {
   "cell_type": "code",
   "execution_count": 0,
   "metadata": {
    "application/vnd.databricks.v1+cell": {
     "cellMetadata": {
      "byteLimit": 2048000,
      "rowLimit": 10000
     },
     "inputWidgets": {},
     "nuid": "cdf32fb8-262f-4c7c-a6c3-9568a201524d",
     "showTitle": false,
     "title": ""
    },
    "tags": []
   },
   "outputs": [],
   "source": [
    "# replace lag values as na or null to zero\n",
    "lag_cols= ['Lag_Closing_Base_1', 'Lag_Closing_Base_2', 'Lag_Closing_Base_3', 'Lag_Shipped_Claim_1', 'Lag_Shipped_Claim_2', 'Lag_Shipped_Claim_3']\n",
    "preprocessed_data[lag_cols] = preprocessed_data[lag_cols].apply(lambda x: x.fillna(0))\n"
   ]
  },
  {
   "cell_type": "code",
   "execution_count": 0,
   "metadata": {
    "application/vnd.databricks.v1+cell": {
     "cellMetadata": {
      "byteLimit": 2048000,
      "rowLimit": 10000
     },
     "inputWidgets": {},
     "nuid": "09a64c99-38ef-4535-a294-b822d5fa4504",
     "showTitle": false,
     "title": ""
    },
    "tags": []
   },
   "outputs": [],
   "source": [
    "preprocessed_data.isna().sum()"
   ]
  },
  {
   "cell_type": "code",
   "execution_count": 0,
   "metadata": {
    "application/vnd.databricks.v1+cell": {
     "cellMetadata": {
      "byteLimit": 2048000,
      "rowLimit": 10000
     },
     "inputWidgets": {},
     "nuid": "98a387b9-a3f6-4198-953d-1ba94f211135",
     "showTitle": false,
     "title": ""
    },
    "tags": []
   },
   "outputs": [],
   "source": [
    "datetime_cols = [ 'YearMonth'] \n",
    "\n",
    "cat_cols = ['Unique_ID','Model','Country', 'Client', 'Product', 'Program', 'Make', 'Model_Series', 'Model_Family', 'Predecessor', 'Model_Type',\n",
    "            'Successor', 'Model_No_Color']\n",
    "\n",
    "num_cols = [ 'Model_Age_Days', 'Closing_Base', 'Model_Capacity', 'Year', 'Month', 'Product_Launch_Year', \n",
    "           'Product_Launch_Month','Model_Series_Launch_Year', 'Model_Series_Launch_Month', 'Lag_Closing_Base_1', 'Lag_Closing_Base_2', 'Lag_Closing_Base_3', 'Lag_Shipped_Claim_1', 'Lag_Shipped_Claim_2', 'Lag_Shipped_Claim_3']\n",
    "\n",
    "target_col = ['Shipped_Claim']"
   ]
  },
  {
   "cell_type": "code",
   "execution_count": 0,
   "metadata": {
    "application/vnd.databricks.v1+cell": {
     "cellMetadata": {
      "byteLimit": 2048000,
      "rowLimit": 10000
     },
     "inputWidgets": {},
     "nuid": "9a8fb493-6cdb-4391-85d8-55738b995641",
     "showTitle": false,
     "title": ""
    },
    "tags": []
   },
   "outputs": [],
   "source": [
    "preprocessed_data"
   ]
  },
  {
   "cell_type": "code",
   "execution_count": 0,
   "metadata": {
    "application/vnd.databricks.v1+cell": {
     "cellMetadata": {
      "byteLimit": 2048000,
      "rowLimit": 10000
     },
     "inputWidgets": {},
     "nuid": "59dc69ac-6d64-4e89-9624-b11fd3fdc96b",
     "showTitle": false,
     "title": ""
    },
    "tags": []
   },
   "outputs": [],
   "source": [
    "final_df = preprocessed_data[ datetime_cols + cat_cols + num_cols + target_col ]"
   ]
  },
  {
   "cell_type": "code",
   "execution_count": 0,
   "metadata": {
    "application/vnd.databricks.v1+cell": {
     "cellMetadata": {
      "byteLimit": 2048000,
      "rowLimit": 10000
     },
     "inputWidgets": {},
     "nuid": "4f14adb9-03cd-4852-8834-2f1ddcdb8622",
     "showTitle": false,
     "title": ""
    },
    "tags": []
   },
   "outputs": [],
   "source": [
    "final_df"
   ]
  },
  {
   "cell_type": "code",
   "execution_count": 0,
   "metadata": {
    "application/vnd.databricks.v1+cell": {
     "cellMetadata": {
      "byteLimit": 2048000,
      "rowLimit": 10000
     },
     "inputWidgets": {},
     "nuid": "26b76958-b784-4b79-95ce-3c998e870776",
     "showTitle": false,
     "title": ""
    },
    "tags": []
   },
   "outputs": [],
   "source": [
    "final_df.shape"
   ]
  },
  {
   "cell_type": "code",
   "execution_count": 0,
   "metadata": {
    "application/vnd.databricks.v1+cell": {
     "cellMetadata": {
      "byteLimit": 2048000,
      "rowLimit": 10000
     },
     "inputWidgets": {},
     "nuid": "0c04ca6f-749b-498b-9817-87e31db094ba",
     "showTitle": false,
     "title": ""
    }
   },
   "outputs": [],
   "source": [
    "# Convert to uppercase\n",
    "def uppercase_dataframe(df):\n",
    "    for col in df.select_dtypes(include = 'object').columns:\n",
    "        df[col] = df[col].str.upper()\n",
    "    return df\n",
    " \n",
    "final_df = uppercase_dataframe(final_df)\n",
    "\n",
    "final_df.drop(columns = ['Churn', 'Gross_Adds'], axis=1, inplace= True)\n",
    "final_df.drop(columns = ['Model', 'Unique_ID'])\n",
    "\n",
    "#Label Encoding\n",
    "from sklearn.preprocessing import LabelEncoder\n",
    "\n",
    "# Label Encoding for categorical variables\n",
    "label_encoders = {}\n",
    "for col in cat_cols:\n",
    "    label_encoders[col] = LabelEncoder()\n",
    "    final_df[col] = label_encoders[col].fit_transform(final_df[col])\n",
    "\n",
    "final_df.drop_duplicates(inplace=True)    \n",
    "final_df.sort_values(by='YearMonth', inplace=True)"
   ]
  },
  {
   "cell_type": "code",
   "execution_count": 0,
   "metadata": {
    "application/vnd.databricks.v1+cell": {
     "cellMetadata": {
      "byteLimit": 2048000,
      "rowLimit": 10000
     },
     "inputWidgets": {},
     "nuid": "75589f55-7eb8-4ccc-9e44-0650ab4060f7",
     "showTitle": false,
     "title": ""
    }
   },
   "outputs": [],
   "source": [
    "final_df"
   ]
  },
  {
   "cell_type": "code",
   "execution_count": 0,
   "metadata": {
    "application/vnd.databricks.v1+cell": {
     "cellMetadata": {
      "byteLimit": 2048000,
      "rowLimit": 10000
     },
     "inputWidgets": {},
     "nuid": "b3ff22f1-92ee-4461-b5c0-3cd7fbad08ed",
     "showTitle": false,
     "title": ""
    },
    "tags": []
   },
   "outputs": [],
   "source": [
    "#!pip install h2o"
   ]
  },
  {
   "cell_type": "code",
   "execution_count": 0,
   "metadata": {
    "application/vnd.databricks.v1+cell": {
     "cellMetadata": {
      "byteLimit": 2048000,
      "rowLimit": 10000
     },
     "inputWidgets": {},
     "nuid": "4eca66ab-6c78-4d99-9e1e-0d55b3c0634e",
     "showTitle": false,
     "title": ""
    },
    "tags": []
   },
   "outputs": [],
   "source": [
    "# # automl experimentation\n",
    "# import pandas as pd\n",
    "# import h2o\n",
    "# from h2o.automl import H2OAutoML\n",
    "# from h2o.frame import H2OFrame\n",
    "\n",
    "# # Initialize H2O\n",
    "# h2o.init()\n",
    "\n",
    "# # Sort the DataFrame by the time column\n",
    "# #final_df = final_df.sort_values('YearMonth')\n",
    "\n",
    "# # Calculate the split point (80% training, 20% testing)\n",
    "# split_point = int(len(final_df) * 0.875)\n",
    "\n",
    "# # Split the data\n",
    "# train_df = final_df.iloc[:split_point]\n",
    "# test_df = final_df.iloc[split_point:]\n",
    "\n",
    "# # Reset index in both training and test DataFrames\n",
    "# train_df = train_df.reset_index(drop=True)\n",
    "# test_df = test_df.reset_index(drop=True)\n",
    "\n",
    "# # Convert pandas DataFrames to H2OFrames\n",
    "# train = h2o.H2OFrame(train_df)\n",
    "# test = h2o.H2OFrame(test_df)\n",
    "\n",
    "# # Define the target and features\n",
    "# target = 'Shipped_Claim'\n",
    "# features = [col for col in train.columns if col != target]\n",
    "\n",
    "# # Set up H2O AutoML\n",
    "# automl = H2OAutoML(max_runtime_secs=1200, max_models=20, seed=1, stopping_metric='RMSE', sort_metric='RMSE')\n",
    "\n",
    "# # Train models\n",
    "# automl.train(x=features, y=target, training_frame=train)\n",
    "\n",
    "# # View the AutoML Leaderboard\n",
    "# lb = automl.leaderboard\n",
    "# print(lb)\n",
    "\n",
    "# # Get the best model\n",
    "# best_model = automl.leader\n",
    "\n",
    "# # Model performance on the training set\n",
    "# train_performance = best_model.model_performance(train)\n",
    "# print(\"\\nTraining Performance\")\n",
    "# print(\"RMSE:\", train_performance.rmse())\n",
    "# print(\"MAE:\", train_performance.mae())\n",
    "# print(\"R2:\", train_performance.r2())\n",
    "\n",
    "# # Model performance on the test set\n",
    "# test_performance = best_model.model_performance(test)\n",
    "# print(\"\\nTest Performance\")\n",
    "# print(\"RMSE:\", test_performance.rmse())\n",
    "# print(\"MAE:\", test_performance.mae())\n",
    "# print(\"R2:\", test_performance.r2())\n",
    "\n",
    "# # Example: Shut down H2O - Uncomment the below line when you are done with H2O\n",
    "# # h2o.shutdown()"
   ]
  },
  {
   "cell_type": "code",
   "execution_count": 0,
   "metadata": {
    "application/vnd.databricks.v1+cell": {
     "cellMetadata": {
      "byteLimit": 2048000,
      "rowLimit": 10000
     },
     "inputWidgets": {},
     "nuid": "e8ac018b-7e33-43ca-b289-2f347520a1e8",
     "showTitle": false,
     "title": ""
    },
    "tags": []
   },
   "outputs": [],
   "source": [
    "import pandas as pd \n",
    "from datetime import datetime \n",
    "def split_dataset(df, test_months): \n",
    "    # Convert year and month to a datetime to ease sorting and manipulation\n",
    "    df['YearMonth'] = pd.to_datetime(df['YearMonth'])\n",
    "    df = df.sort_values(by='YearMonth') # Ensure the DataFrame is sorted by date \n",
    "    # Find the split date by subtracting test_months from the max date \n",
    "    max_date = df['YearMonth'].max() \n",
    "    split_date = max_date - pd.DateOffset(months=test_months) \n",
    "    # Split the dataset \n",
    "    train_df = df[df['YearMonth'] <= split_date] \n",
    "    test_df = df[df['YearMonth'] > split_date] \n",
    "    # Drop the date column if no longer needed \n",
    "    train_df = train_df.drop(columns=['YearMonth']) \n",
    "    test_df = test_df.drop(columns=['YearMonth']) \n",
    "    \n",
    "    return train_df, test_df \n",
    "\n",
    "\n",
    "test_months = 6 #  reserving the last n months of data for testing \n",
    "train, test = split_dataset(final_df, test_months) \n",
    "\n",
    "# AutoML setup\n",
    "# Define settings dictionary\n",
    "settings = { \n",
    "    \"time_budget\": 3600,\n",
    "    \"metric\": \"r2\", \n",
    "    \"estimator_list\": ['xgboost'], \n",
    "    \"task\": 'regression', \n",
    "    \"seed\": 42, \n",
    "    \"early_stop\" : True\n",
    "    } \n",
    "\n",
    "# Initialize AutoML \n",
    "automl = AutoML() \n",
    "\n",
    "# Train the model \n",
    "automl.fit(X_train=train.drop('Shipped_Claim', axis=1), y_train=train['Shipped_Claim'], **settings) \n",
    "# Predictions \n",
    "preds = automl.predict(test.drop('Shipped_Claim', axis=1)) \n",
    "# Print the results \n",
    "print('Best hyperparameter config:', automl.best_config) \n",
    "print('Best r2 on validation data: {:.4g}'.format(1 - automl.best_loss)) \n",
    "print('Training duration of best run: {:.4g} s'.format(automl.best_config_train_time)) \n",
    "print(automl.model.estimator)"
   ]
  },
  {
   "cell_type": "code",
   "execution_count": 0,
   "metadata": {
    "application/vnd.databricks.v1+cell": {
     "cellMetadata": {
      "byteLimit": 2048000,
      "rowLimit": 10000
     },
     "inputWidgets": {},
     "nuid": "ab0fd19e-553e-4d2e-b218-d7a3b89d10e6",
     "showTitle": false,
     "title": ""
    },
    "tags": []
   },
   "outputs": [],
   "source": [
    "from sklearn import metrics \n",
    "# Calculate RMSE, R2, and MAE for training set \n",
    "train_true = train['Shipped_Claim'] \n",
    "train_preds = automl.predict(train.drop('Shipped_Claim', axis=1)) \n",
    "train_rmse = metrics.mean_squared_error(train_true, train_preds, squared=False) \n",
    "train_r2 = metrics.r2_score(train_true, train_preds) \n",
    "train_mae = metrics.mean_absolute_error(train_true, train_preds) \n",
    "# Calculate RMSE, R2, and MAE for test set \n",
    "test_true = test['Shipped_Claim'] \n",
    "test_preds = preds \n",
    "# assuming 'preds' contains your test set predictions from the previous step \n",
    "test_rmse = metrics.mean_squared_error(test_true, test_preds, squared=False) \n",
    "test_r2 = metrics.r2_score(test_true, test_preds) \n",
    "test_mae = metrics.mean_absolute_error(test_true, test_preds) \n",
    "# Print the metrics \n",
    "print(f\"Training RMSE: {train_rmse}\") \n",
    "print(f\"Training R^2: {train_r2}\") \n",
    "print(f\"Training MAE: {train_mae}\\n\") \n",
    "print(f\"Test RMSE: {test_rmse}\") \n",
    "print(f\"Test R^2: {test_r2}\") \n",
    "print(f\"Test MAE: {test_mae}\")"
   ]
  },
  {
   "cell_type": "code",
   "execution_count": 0,
   "metadata": {
    "application/vnd.databricks.v1+cell": {
     "cellMetadata": {
      "byteLimit": 2048000,
      "rowLimit": 10000
     },
     "inputWidgets": {},
     "nuid": "212dff9d-360b-40a7-868e-fa26ee127603",
     "showTitle": false,
     "title": ""
    },
    "tags": []
   },
   "outputs": [],
   "source": [
    "test['forecast'] = preds"
   ]
  },
  {
   "cell_type": "code",
   "execution_count": 0,
   "metadata": {
    "application/vnd.databricks.v1+cell": {
     "cellMetadata": {
      "byteLimit": 2048000,
      "rowLimit": 10000
     },
     "inputWidgets": {},
     "nuid": "ffe05353-5ea2-4aa0-8c76-2d78c1e4886d",
     "showTitle": false,
     "title": ""
    },
    "tags": []
   },
   "outputs": [],
   "source": [
    "test"
   ]
  },
  {
   "cell_type": "code",
   "execution_count": 0,
   "metadata": {
    "application/vnd.databricks.v1+cell": {
     "cellMetadata": {
      "byteLimit": 2048000,
      "rowLimit": 10000
     },
     "inputWidgets": {},
     "nuid": "dd60ee01-6b2c-4f15-b3c3-9ca7c6294f76",
     "showTitle": false,
     "title": ""
    },
    "tags": []
   },
   "outputs": [],
   "source": [
    "predictions = test.copy()"
   ]
  },
  {
   "cell_type": "code",
   "execution_count": 0,
   "metadata": {
    "application/vnd.databricks.v1+cell": {
     "cellMetadata": {
      "byteLimit": 2048000,
      "rowLimit": 10000
     },
     "inputWidgets": {},
     "nuid": "706e9c41-4eb2-430c-971c-dece18cfbce6",
     "showTitle": false,
     "title": ""
    },
    "tags": []
   },
   "outputs": [],
   "source": [
    "for col in cat_cols:\n",
    "    predictions[col] = label_encoders[col].inverse_transform(test[col])"
   ]
  },
  {
   "cell_type": "code",
   "execution_count": 0,
   "metadata": {
    "application/vnd.databricks.v1+cell": {
     "cellMetadata": {
      "byteLimit": 2048000,
      "rowLimit": 10000
     },
     "inputWidgets": {},
     "nuid": "2243966d-2786-4e46-afc1-9ea3e2f2d4fc",
     "showTitle": false,
     "title": ""
    },
    "tags": []
   },
   "outputs": [],
   "source": [
    "predictions"
   ]
  },
  {
   "cell_type": "code",
   "execution_count": 0,
   "metadata": {
    "application/vnd.databricks.v1+cell": {
     "cellMetadata": {
      "byteLimit": 2048000,
      "rowLimit": 10000
     },
     "inputWidgets": {},
     "nuid": "9726fdd4-7175-43de-b4b6-833e118f1b5f",
     "showTitle": false,
     "title": ""
    }
   },
   "outputs": [],
   "source": [
    "predictions['forecast'] = predictions['forecast'].round().astype(int)\n",
    "\n",
    "def calculate_accuracy(row):\n",
    "    try:\n",
    "        forecast=row['forecast']\n",
    "        Shipped_Claim=row ['Shipped_Claim']\n",
    "        max_value=max(forecast, Shipped_Claim)\n",
    "        if max_value == 0:\n",
    "            return 0\n",
    "        else:\n",
    "            return (min(forecast, Shipped_Claim) /max_value)*100\n",
    "    except ZeroDivisionError:\n",
    "        return 0\n",
    "predictions['Accuracy']=predictions.apply(calculate_accuracy, axis=1)\n",
    "\n",
    "# Add 'Zero_Case' column based on 'Claims' value\n",
    "predictions['Zero_Case'] = predictions['Shipped_Claim'].apply(lambda x: 'Non_0' if x != 0 else '0_Case')\n",
    "# Calculate 'Unit Variance' as Claims - Forecast\n",
    "predictions['Unit_Variance'] = predictions['Shipped_Claim'] - predictions['forecast']\n",
    "# Function to categorize Accuracy into ranges\n",
    "def categorize_accuracy(acc):\n",
    "    if acc < 25:\n",
    "        return '<25%'\n",
    "    elif 25 <= acc < 50:\n",
    "        return '25%-50%'\n",
    "    elif 50 <= acc < 75:\n",
    "        return '50%-75%'\n",
    "    elif 75 <= acc < 90:\n",
    "        return '75%-90%'\n",
    "    elif 90 <= acc < 100:\n",
    "        return '90%-100%'\n",
    "    else:  # This covers the case of exactly 100% accuracy\n",
    "        return '100%'\n",
    "# Apply the function to create 'Accuracy Range' column\n",
    "predictions['Accuracy_Range'] = predictions['Accuracy'].apply(categorize_accuracy)"
   ]
  },
  {
   "cell_type": "code",
   "execution_count": 0,
   "metadata": {
    "application/vnd.databricks.v1+cell": {
     "cellMetadata": {
      "byteLimit": 2048000,
      "rowLimit": 10000
     },
     "inputWidgets": {},
     "nuid": "a9a67638-64e0-46aa-a921-c0541aaf8962",
     "showTitle": false,
     "title": ""
    }
   },
   "outputs": [],
   "source": [
    "Predictions_NonZero_Case = predictions[(predictions['Zero_Case'] =='Non_0')]"
   ]
  },
  {
   "cell_type": "code",
   "execution_count": 0,
   "metadata": {
    "application/vnd.databricks.v1+cell": {
     "cellMetadata": {
      "byteLimit": 2048000,
      "rowLimit": 10000
     },
     "inputWidgets": {},
     "nuid": "a835ceeb-7566-456d-8b58-8ea4889c0c23",
     "showTitle": false,
     "title": ""
    }
   },
   "outputs": [],
   "source": [
    "Predictions_NonZero_Case"
   ]
  },
  {
   "cell_type": "code",
   "execution_count": 0,
   "metadata": {
    "application/vnd.databricks.v1+cell": {
     "cellMetadata": {
      "byteLimit": 2048000,
      "rowLimit": 10000
     },
     "inputWidgets": {},
     "nuid": "c5ce81f0-a5d3-41b2-8211-8d3687c9d0c9",
     "showTitle": false,
     "title": ""
    }
   },
   "outputs": [],
   "source": [
    "Accuracy_Categories = Predictions_NonZero_Case['Accuracy_Range'].value_counts()"
   ]
  },
  {
   "cell_type": "code",
   "execution_count": 0,
   "metadata": {
    "application/vnd.databricks.v1+cell": {
     "cellMetadata": {
      "byteLimit": 2048000,
      "rowLimit": 10000
     },
     "inputWidgets": {},
     "nuid": "cea90213-e758-4569-8865-ad4db1e372da",
     "showTitle": false,
     "title": ""
    }
   },
   "outputs": [],
   "source": [
    "Accuracy_Categories"
   ]
  },
  {
   "cell_type": "code",
   "execution_count": 0,
   "metadata": {
    "application/vnd.databricks.v1+cell": {
     "cellMetadata": {
      "byteLimit": 2048000,
      "rowLimit": 10000
     },
     "inputWidgets": {},
     "nuid": "cf9302e3-0c42-44a4-8a54-71b3e918bd88",
     "showTitle": false,
     "title": ""
    }
   },
   "outputs": [],
   "source": [
    "results_df = spark.createDataFrame(predictions, schema=list(predictions.columns))\n",
    "results_df.write.mode(\"overwrite\").saveAsTable(\"l1_asurion_apac.demand_forecasting_results\")"
   ]
  },
  {
   "cell_type": "code",
   "execution_count": 0,
   "metadata": {
    "application/vnd.databricks.v1+cell": {
     "cellMetadata": {
      "byteLimit": 2048000,
      "rowLimit": 10000
     },
     "inputWidgets": {},
     "nuid": "480aa64c-db49-4407-b764-1024339390d1",
     "showTitle": false,
     "title": ""
    }
   },
   "outputs": [],
   "source": [
    "predictions.shape"
   ]
  },
  {
   "cell_type": "code",
   "execution_count": 0,
   "metadata": {
    "application/vnd.databricks.v1+cell": {
     "cellMetadata": {
      "byteLimit": 2048000,
      "rowLimit": 10000
     },
     "inputWidgets": {},
     "nuid": "97526555-3ad7-4a74-bb3b-417566c26170",
     "showTitle": false,
     "title": ""
    }
   },
   "outputs": [],
   "source": [
    "predictions.to_csv('demand_forecasting_19feb.csv', index=False)"
   ]
  }
 ],
 "metadata": {
  "application/vnd.databricks.v1+notebook": {
   "dashboards": [],
   "language": "python",
   "notebookMetadata": {
    "mostRecentlyExecutedCommandWithImplicitDF": {
     "commandId": -1,
     "dataframes": [
      "_sqldf"
     ]
    },
    "pythonIndentUnit": 4
   },
   "notebookName": "XGB_Demand_Forecasting",
   "widgets": {}
  },
  "kernelspec": {
   "display_name": "conda_python3",
   "language": "python",
   "name": "conda_python3"
  },
  "language_info": {
   "codemirror_mode": {
    "name": "ipython",
    "version": 3
   },
   "file_extension": ".py",
   "mimetype": "text/x-python",
   "name": "python",
   "nbconvert_exporter": "python",
   "pygments_lexer": "ipython3",
   "version": "3.10.13"
  }
 },
 "nbformat": 4,
 "nbformat_minor": 0
}
