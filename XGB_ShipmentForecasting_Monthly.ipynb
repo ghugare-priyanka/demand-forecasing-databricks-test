{
 "cells": [
  {
   "cell_type": "code",
   "execution_count": 0,
   "metadata": {
    "application/vnd.databricks.v1+cell": {
     "cellMetadata": {
      "byteLimit": 2048000,
      "rowLimit": 10000
     },
     "inputWidgets": {},
     "nuid": "ae9d682a-a349-4333-a9c8-3c702920fd76",
     "showTitle": false,
     "title": ""
    }
   },
   "outputs": [],
   "source": [
    "!pip3 install seaborn"
   ]
  },
  {
   "cell_type": "code",
   "execution_count": 0,
   "metadata": {
    "application/vnd.databricks.v1+cell": {
     "cellMetadata": {
      "byteLimit": 2048000,
      "rowLimit": 10000
     },
     "inputWidgets": {},
     "nuid": "3f22499c-ad89-48e3-a1c5-ef5f446b0570",
     "showTitle": false,
     "title": ""
    }
   },
   "outputs": [],
   "source": [
    "import xgboost as xgb\n",
    "from xgboost import XGBRegressor\n",
    "import pandas as pd\n",
    "import numpy as np\n",
    "from sklearn.preprocessing import LabelEncoder, OrdinalEncoder, StandardScaler, OneHotEncoder\n",
    "from pandas.tseries.offsets import DateOffset\n",
    "from itertools import product\n",
    "from dateutil.relativedelta import relativedelta\n",
    "from datetime import datetime\n",
    "import plotly.graph_objects as go\n",
    "#from flaml import AutoML\n",
    "from sklearn.metrics import mean_squared_error, r2_score\n",
    "import boto3\n",
    "import os\n",
    "import io\n",
    "from sklearn.pipeline import Pipeline\n",
    "from sklearn.impute import SimpleImputer\n",
    "from sklearn.compose import ColumnTransformer\n",
    "from sklearn.model_selection import train_test_split\n",
    "import matplotlib.pyplot as plt\n",
    "import seaborn as sns"
   ]
  },
  {
   "cell_type": "code",
   "execution_count": 0,
   "metadata": {
    "application/vnd.databricks.v1+cell": {
     "cellMetadata": {
      "byteLimit": 2048000,
      "rowLimit": 10000
     },
     "inputWidgets": {},
     "nuid": "92f39ccc-1b1d-452a-9115-45dc165cb8b7",
     "showTitle": false,
     "title": ""
    }
   },
   "outputs": [],
   "source": [
    "# Data via unity catalog\n",
    "\n",
    "# Import SparkSession\n",
    "from pyspark.sql import SparkSession\n",
    "\n",
    "# Create or get SparkSession\n",
    "spark = SparkSession.builder.appName(\"UnityCatalogAccess\").getOrCreate()\n",
    "\n",
    "# Set the current catalog and schema (database) if necessary\n",
    "spark.sql(\"USE CATALOG `edp-apac-uat`\") # Unity Catalog name\n",
    "spark.sql(\"USE l1_asurion_apac\") # Schema (database) name\n",
    "\n",
    "# Query a table\n",
    "df = spark.sql(\"SELECT * FROM demand_forecast limit 10\") # Table name\n",
    "df.show()\n",
    "\n",
    "# Print the schema to understand data types\n",
    "df.printSchema()\n"
   ]
  },
  {
   "cell_type": "code",
   "execution_count": 0,
   "metadata": {
    "application/vnd.databricks.v1+cell": {
     "cellMetadata": {
      "byteLimit": 2048000,
      "rowLimit": 10000
     },
     "inputWidgets": {},
     "nuid": "2ccdb009-f1de-42f7-9e44-7e5d67b5cbee",
     "showTitle": false,
     "title": ""
    }
   },
   "outputs": [],
   "source": [
    "# Data via CSV\n",
    "data = pd.read_csv(\"SG_Shipments_2019_2022.csv\")\n",
    "\n",
    "data.style"
   ]
  },
  {
   "cell_type": "code",
   "execution_count": 0,
   "metadata": {
    "application/vnd.databricks.v1+cell": {
     "cellMetadata": {
      "byteLimit": 2048000,
      "rowLimit": 10000
     },
     "inputWidgets": {},
     "nuid": "0c858a20-5da7-4ae9-aea0-484c4b7b930b",
     "showTitle": false,
     "title": ""
    }
   },
   "outputs": [],
   "source": [
    "shipment_data = data.copy()\n",
    "\n",
    "\n",
    "# # Sort the DataFrame by YearMonth to ensure it's in chronological order\n",
    "shipment_data.sort_values('YearMonth', inplace=True)\n",
    "\n",
    "shipment_data.style"
   ]
  },
  {
   "cell_type": "code",
   "execution_count": 0,
   "metadata": {
    "application/vnd.databricks.v1+cell": {
     "cellMetadata": {
      "byteLimit": 2048000,
      "rowLimit": 10000
     },
     "inputWidgets": {},
     "nuid": "f988aaca-374a-41a0-82f6-f757ab0cac0f",
     "showTitle": false,
     "title": ""
    }
   },
   "outputs": [],
   "source": [
    "shipment_data['YearMonth'] = shipment_data['YearMonth'].astype(str)\n",
    "shipment_data['YearMonth'] = pd.to_datetime(shipment_data['YearMonth'], format='%Y%m')\n",
    "shipment_data['Year'] = shipment_data['YearMonth'].dt.year\n",
    "shipment_data['Month'] = shipment_data['YearMonth'].dt.month\n",
    "shipment_data.drop(\"YearMonth\", axis=1, inplace=True)\n",
    "\n",
    "shipment_data.style\n"
   ]
  },
  {
   "cell_type": "code",
   "execution_count": 0,
   "metadata": {
    "application/vnd.databricks.v1+cell": {
     "cellMetadata": {
      "byteLimit": 2048000,
      "rowLimit": 10000
     },
     "inputWidgets": {},
     "nuid": "e5c6cfeb-41b3-4f56-93a0-c6461395006d",
     "showTitle": false,
     "title": ""
    }
   },
   "outputs": [],
   "source": [
    "numerical_cols = shipment_data.select_dtypes(include=[\"int64\", \"float64\"]).columns.drop('Shipped_Claim')\n",
    "categorical_cols = shipment_data.select_dtypes(include=[\"object\"]).columns\n",
    "numerical_cols, categorical_cols"
   ]
  },
  {
   "cell_type": "code",
   "execution_count": 0,
   "metadata": {
    "application/vnd.databricks.v1+cell": {
     "cellMetadata": {
      "byteLimit": 2048000,
      "rowLimit": 10000
     },
     "inputWidgets": {},
     "nuid": "efa255ab-fe1e-49d5-9bee-b16ec918025d",
     "showTitle": false,
     "title": ""
    }
   },
   "outputs": [],
   "source": [
    "# some visualization, for now may not be very useful\n",
    "plt.figure(figsize=(10, 6))\n",
    "sns.histplot(data['Shipped_Claim'], kde=True)\n",
    "plt.title('Distribution of Shipped Claims')\n",
    "plt.xlabel('Shipped Claims')\n",
    "plt.ylabel('Frequency')\n",
    "plt.show()\n",
    "\n",
    "plt.figure(figsize=(14, 10))\n",
    "correlation_matrix = data[numerical_cols.append(pd.Index(['Shipped_Claim']))].corr()\n",
    "sns.heatmap(correlation_matrix, annot=True, cmap='coolwarm')\n",
    "plt.title('Correlation Matrix of Numerical Features')\n",
    "plt.show()\n",
    "\n",
    "for col in categorical_cols[:3]:\n",
    "    plt.figure(figsize=(10, 6))\n",
    "    sns.countplot(data=data, x=col)\n",
    "    plt.title(f'Distribution of {col}')\n",
    "    plt.xticks(rotation=45)\n",
    "    plt.show()"
   ]
  },
  {
   "cell_type": "code",
   "execution_count": 0,
   "metadata": {
    "application/vnd.databricks.v1+cell": {
     "cellMetadata": {
      "byteLimit": 2048000,
      "rowLimit": 10000
     },
     "inputWidgets": {},
     "nuid": "4a0b2859-0d1b-4f7b-b20b-063eb8eb1eb6",
     "showTitle": false,
     "title": ""
    }
   },
   "outputs": [],
   "source": [
    "numerical_transformer = Pipeline(steps=[\n",
    "    ('imputer', SimpleImputer(strategy='median')),\n",
    "    ('scaler', StandardScaler())\n",
    "])\n",
    "\n",
    "# one hot encoding for now\n",
    "# categorical_transformer = Pipeline(steps=[\n",
    "#     ('imputer', SimpleImputer(strategy='constant', fill_value='missing')),\n",
    "#     ('onehot', OneHotEncoder(handle_unknown='ignore'))\n",
    "# ])\n",
    "\n",
    "categorical_transformer = Pipeline(steps=[\n",
    "    ('imputer', SimpleImputer(strategy='constant', fill_value='missing')),\n",
    "    ('onehot', OrdinalEncoder(handle_unknown='use_encoded_value', unknown_value=-1))\n",
    "])"
   ]
  },
  {
   "cell_type": "code",
   "execution_count": 0,
   "metadata": {
    "application/vnd.databricks.v1+cell": {
     "cellMetadata": {
      "byteLimit": 2048000,
      "rowLimit": 10000
     },
     "inputWidgets": {},
     "nuid": "6bbbbb0c-4f01-4c6b-bc5f-57c3c7fe0daa",
     "showTitle": false,
     "title": ""
    }
   },
   "outputs": [],
   "source": [
    "preprocessor = ColumnTransformer(\n",
    "    transformers=[\n",
    "        ('num', numerical_transformer, numerical_cols),\n",
    "        ('cat', categorical_transformer, categorical_cols)\n",
    "    ])"
   ]
  },
  {
   "cell_type": "code",
   "execution_count": 0,
   "metadata": {
    "application/vnd.databricks.v1+cell": {
     "cellMetadata": {
      "byteLimit": 2048000,
      "rowLimit": 10000
     },
     "inputWidgets": {},
     "nuid": "028b2642-1e8d-4dcb-8ddd-c0e6eabd0a36",
     "showTitle": false,
     "title": ""
    }
   },
   "outputs": [],
   "source": [
    "model_xgb = XGBRegressor(n_estimators=100, learning_rate=0.1, random_state=0)\n",
    "\n",
    "pipeline_xgb = Pipeline(steps=[('preprocessor', preprocessor),\n",
    "                               ('model', model_xgb)])\n",
    "\n",
    "X = shipment_data.drop('Shipped_Claim', axis=1)\n",
    "y = shipment_data['Shipped_Claim']\n",
    "X_train, X_test, y_train, y_test = train_test_split(X, y, test_size=0.2, random_state=0)\n",
    "\n",
    "print(X_train.head())\n",
    "print(X_test.head())\n",
    "\n",
    "# unsorted\n",
    "\n",
    "# Country   Client               Product  ... Gross_Adds  Year Month\n",
    "# 1  Singapore  SingTel  MobileSwop Unlimited  ...          0  2020     3\n",
    "# 3  Singapore  SingTel  MobileSwop Unlimited  ...          0  2020     1\n",
    "# 0  Singapore  SingTel  MobileSwop Unlimited  ...         11  2021     5\n",
    "# 4  Singapore  SingTel  MobileSwop Unlimited  ...          0  2022     3\n",
    "\n",
    "# [4 rows x 28 columns]\n",
    "#      Country   Client               Product  ... Gross_Adds  Year Month\n",
    "# 5  Singapore  SingTel  MobileSwop Unlimited  ...          0  2021    10\n",
    "# 2  Singapore  SingTel  MobileSwop Unlimited  ...          0  2022     1\n",
    "\n",
    "# [2 rows x 28 columns]\n",
    "\n",
    "# pipeline_xgb.fit(X_train, y_train)\n",
    "\n",
    "# predictions_xgb = pipeline_xgb.predict(X_test)\n",
    "# rmse_xgb = mean_squared_error(y_test, predictions_xgb, squared=False)\n",
    "# r2_xgb = r2_score(y_test, predictions_xgb)\n",
    "\n",
    "# print(f\"Root Mean Squared Error: {rmse_xgb}\")\n",
    "# print(f\"R2 Score: {r2_xgb}\")"
   ]
  },
  {
   "cell_type": "code",
   "execution_count": 0,
   "metadata": {
    "application/vnd.databricks.v1+cell": {
     "cellMetadata": {
      "byteLimit": 2048000,
      "rowLimit": 10000
     },
     "inputWidgets": {},
     "nuid": "134813eb-17bf-467c-9fe0-cbfa7b18a9a3",
     "showTitle": false,
     "title": ""
    }
   },
   "outputs": [],
   "source": [
    "# Storing ML results into unity catalog\n",
    "\n",
    "from pyspark.sql import SparkSession\n",
    "from pyspark.sql.functions import abs, col\n",
    "import pyspark.sql.functions as F\n",
    "\n",
    "# Initialize Spark Session\n",
    "spark = SparkSession.builder.appName(\"ForecastAccuracy\").getOrCreate()\n",
    "# Set the current catalog and schema (database) if necessary\n",
    "spark.sql(\"USE CATALOG `edp-apac-uat`\") # Unity Catalog name\n",
    "spark.sql(\"USE l1_asurion_apac\") # Schema (database) name\n",
    "\n",
    "\n",
    "# Sample data\n",
    "data = [\n",
    "    (\"2024-01-01\", \"ModelA\", 100, 105),\n",
    "    (\"2024-01-01\", \"ModelB\", 200, 195),\n",
    "    (\"2024-02-01\", \"ModelA\", 110, 108),\n",
    "    (\"2024-02-01\", \"ModelB\", 210, 205),\n",
    "    # Add more rows as needed\n",
    "]\n",
    "\n",
    "# Create DataFrame\n",
    "schema = [\"Date\", \"Model\", \"Forecast_Value\", \"Actual_Value\"]\n",
    "results_df = spark.createDataFrame(data, schema=schema)\n",
    "\n",
    "# Calculate accuracy metric (Example: Absolute Percent Error)\n",
    "results_df = results_df.withColumn(\"Absolute_Error\", abs(col(\"Forecast_Value\") - col(\"Actual_Value\")))\n",
    "results_df = results_df.withColumn(\"Percent_Error\", (col(\"Absolute_Error\") / col(\"Actual_Value\")) * 100)\n",
    "\n",
    "# Display the DataFrame\n",
    "results_df.show()\n",
    "\n",
    "#results_df = ...  # Your DataFrame containing ML results\n",
    "\n",
    "# Write the DataFrame to a Unity Catalog table\n",
    "results_df.write.format(\"delta\").mode(\"overwrite\").saveAsTable(\"l1_asurion_apac.demand_forecasting_results\")"
   ]
  },
  {
   "cell_type": "code",
   "execution_count": 0,
   "metadata": {
    "application/vnd.databricks.v1+cell": {
     "cellMetadata": {
      "byteLimit": 2048000,
      "implicitDf": true,
      "rowLimit": 10000
     },
     "inputWidgets": {},
     "nuid": "bee38bd8-af97-43f4-9caa-d88097dc23d0",
     "showTitle": false,
     "title": ""
    }
   },
   "outputs": [],
   "source": [
    "#running sql in notebook\n",
    "%sql\n",
    "SELECT count(*) FROM `edp-apac-uat`.`l1_asurion_apac`.`demand_forecast_dataset`;"
   ]
  },
  {
   "cell_type": "code",
   "execution_count": 0,
   "metadata": {
    "application/vnd.databricks.v1+cell": {
     "cellMetadata": {},
     "inputWidgets": {},
     "nuid": "10037689-5a3c-4d78-9256-42d0d9b9400a",
     "showTitle": false,
     "title": ""
    }
   },
   "outputs": [],
   "source": []
  }
 ],
 "metadata": {
  "application/vnd.databricks.v1+notebook": {
   "dashboards": [],
   "language": "python",
   "notebookMetadata": {
    "mostRecentlyExecutedCommandWithImplicitDF": {
     "commandId": 2162338765143316,
     "dataframes": [
      "_sqldf"
     ]
    },
    "pythonIndentUnit": 4
   },
   "notebookName": "XGB_ShipmentForecasting_Monthly",
   "widgets": {}
  },
  "kernelspec": {
   "display_name": "Python 3",
   "language": "python",
   "name": "python3"
  },
  "language_info": {
   "codemirror_mode": {
    "name": "ipython",
    "version": 3
   },
   "file_extension": ".py",
   "mimetype": "text/x-python",
   "name": "python",
   "nbconvert_exporter": "python",
   "pygments_lexer": "ipython3",
   "version": "3.12.0"
  }
 },
 "nbformat": 4,
 "nbformat_minor": 0
}
